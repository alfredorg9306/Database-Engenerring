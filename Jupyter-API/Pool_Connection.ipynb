{
 "cells": [
  {
   "cell_type": "code",
   "execution_count": 33,
   "id": "86effbc4-6770-4338-8e4f-88bc0f4d6c3a",
   "metadata": {},
   "outputs": [],
   "source": [
    "from mysql.connector import pooling,Error"
   ]
  },
  {
   "cell_type": "code",
   "execution_count": 34,
   "id": "d895d415-8dd9-46be-9719-9ef7f9859e5a",
   "metadata": {},
   "outputs": [],
   "source": [
    "def connection_pooling():\n",
    "    connection = None\n",
    "    try:\n",
    "        connection_pool = pooling.MySQLConnectionPool(\n",
    "            pool_name='pool_a',\n",
    "            pool_size=2,\n",
    "            host='localhost',\n",
    "            database='little_lemon',\n",
    "            user='root',\n",
    "            password='rosales93.'\n",
    "        )\n",
    "        connection = connection_pool.get_connection()\n",
    "        print(\"Connection Done\")\n",
    "        return connection\n",
    "    except Error as e:\n",
    "        print(f\"MySQL ERROR: {e}\")\n",
    "        return None"
   ]
  },
  {
   "cell_type": "code",
   "execution_count": 36,
   "id": "40520340-2af0-4d8c-8972-43300cb6d61e",
   "metadata": {},
   "outputs": [
    {
     "name": "stdout",
     "output_type": "stream",
     "text": [
      "Connection Done\n"
     ]
    }
   ],
   "source": [
    "connection = connection_pooling()"
   ]
  },
  {
   "cell_type": "code",
   "execution_count": 37,
   "id": "e7c9d3da-9619-4aab-9f33-68e25aa14c1a",
   "metadata": {},
   "outputs": [],
   "source": [
    "#creating a cursor.\n",
    "cursor = connection.cursor()"
   ]
  },
  {
   "cell_type": "code",
   "execution_count": 40,
   "id": "49711f01-1c4f-4c44-b229-6cf8546785e5",
   "metadata": {},
   "outputs": [],
   "source": [
    "peak_hours = \"\"\"\n",
    "  CREATE PROCEDURE PeakHours()\n",
    "BEGIN\n",
    "    SELECT HOUR(BookingSlot) AS 'Hour', COUNT(*) AS 'Amount_of_Booking' \n",
    "    FROM bookings\n",
    "\tGROUP BY HOUR(BookingSlot)\n",
    "    ORDER BY Amount_of_Booking DESC;\n",
    "END\n",
    "\"\"\""
   ]
  },
  {
   "cell_type": "code",
   "execution_count": 41,
   "id": "a56f2bb4-e4ad-4085-b730-b715dbe738c6",
   "metadata": {},
   "outputs": [],
   "source": [
    "cursor.execute(peak_hours)"
   ]
  },
  {
   "cell_type": "code",
   "execution_count": 43,
   "id": "8cd77d8c-1002-489e-a256-2d0dc140bea7",
   "metadata": {},
   "outputs": [
    {
     "data": {
      "text/plain": [
       "()"
      ]
     },
     "execution_count": 43,
     "metadata": {},
     "output_type": "execute_result"
    }
   ],
   "source": [
    "cursor.callproc('PeakHours')"
   ]
  },
  {
   "cell_type": "code",
   "execution_count": 46,
   "id": "17e1b2c3-4e0e-4c5d-9e0e-cd165208d192",
   "metadata": {},
   "outputs": [
    {
     "name": "stderr",
     "output_type": "stream",
     "text": [
      "C:\\Users\\Renan Rosales\\AppData\\Local\\Temp\\ipykernel_14456\\3930685186.py:1: DeprecationWarning: Call to deprecated function stored_results. Reason: The property counterpart 'stored_results' will be added in a future release, and this method will be removed.\n",
      "  result = next(cursor.stored_results())\n"
     ]
    }
   ],
   "source": [
    "result = next(cursor.stored_results())"
   ]
  },
  {
   "cell_type": "code",
   "execution_count": 47,
   "id": "fe14b67c-5839-4028-b928-5ee01a28b12c",
   "metadata": {},
   "outputs": [],
   "source": [
    "dataset = result.fetchall()"
   ]
  },
  {
   "cell_type": "code",
   "execution_count": 49,
   "id": "a5d3ab48-fef6-447c-be6c-d03d49f1575d",
   "metadata": {},
   "outputs": [
    {
     "name": "stderr",
     "output_type": "stream",
     "text": [
      "C:\\Users\\Renan Rosales\\AppData\\Local\\Temp\\ipykernel_14456\\1887645679.py:1: DeprecationWarning: Call to deprecated function stored_results. Reason: The property counterpart 'stored_results' will be added in a future release, and this method will be removed.\n",
      "  for column_id in cursor.stored_results():\n"
     ]
    }
   ],
   "source": [
    "for column_id in cursor.stored_results():\n",
    "    columns=[column[0] for column in column_id.description]"
   ]
  },
  {
   "cell_type": "code",
   "execution_count": 50,
   "id": "8810377b-85df-48f7-9be3-4a1dda18d02d",
   "metadata": {},
   "outputs": [
    {
     "name": "stdout",
     "output_type": "stream",
     "text": [
      "['Hour', 'Amount_of_Booking']\n"
     ]
    }
   ],
   "source": [
    "print(columns)"
   ]
  },
  {
   "cell_type": "code",
   "execution_count": 52,
   "id": "b629d997-8392-45ca-8adf-2bed65a735dd",
   "metadata": {},
   "outputs": [
    {
     "name": "stdout",
     "output_type": "stream",
     "text": [
      "['Hour', 'Amount_of_Booking']\n",
      "(19, 2)\n",
      "(15, 1)\n",
      "(17, 1)\n",
      "(18, 1)\n",
      "(20, 1)\n"
     ]
    }
   ],
   "source": [
    "print(columns)\n",
    "for data in dataset:\n",
    "    print(data)"
   ]
  },
  {
   "cell_type": "code",
   "execution_count": 53,
   "id": "6dfe21d0-406a-4131-9983-25f0e4776fcc",
   "metadata": {},
   "outputs": [],
   "source": [
    "GuestStatus = \"\"\"\n",
    "CREATE PROCEDURE GuestStatus()\n",
    "BEGIN\n",
    "\tSELECT CONCAT(B.GuestFirstName,' ',B.GuestLastName) AS 'Full_Name',E.Role,\n",
    "\tCASE\n",
    "\t\tWHEN E.Role = 'Manager' OR E.Role = \"Assistant Manager\" THEN 'Ready to pay'\n",
    "\t\tWHEN E.Role = 'Head Chef' THEN 'Ready to serve'\n",
    "\t\tWHEN E.Role = 'Assistant Chef' THEN 'Preparing Order'\n",
    "\t\tWHEN E.Role = 'Head Waiter' THEN 'Order served'\n",
    "\tEND AS 'Status'\n",
    "\tFROM bookings AS B\n",
    "\tLEFT JOIN employees AS E \n",
    "\tON B.EmployeeID = E.EmployeeID;\n",
    "END\n",
    "\"\"\""
   ]
  },
  {
   "cell_type": "code",
   "execution_count": 54,
   "id": "87e361ae-9e3c-4189-a5e3-56b56fd69cbd",
   "metadata": {},
   "outputs": [],
   "source": [
    "cursor.execute(GuestStatus)"
   ]
  },
  {
   "cell_type": "code",
   "execution_count": 55,
   "id": "8785e876-e746-4f1e-a87c-fcf8e56e0ab3",
   "metadata": {},
   "outputs": [
    {
     "data": {
      "text/plain": [
       "()"
      ]
     },
     "execution_count": 55,
     "metadata": {},
     "output_type": "execute_result"
    }
   ],
   "source": [
    "cursor.callproc('GuestStatus')"
   ]
  },
  {
   "cell_type": "code",
   "execution_count": 57,
   "id": "29fc74bc-e3cc-46dd-8b89-85a42c55b957",
   "metadata": {},
   "outputs": [
    {
     "name": "stderr",
     "output_type": "stream",
     "text": [
      "C:\\Users\\Renan Rosales\\AppData\\Local\\Temp\\ipykernel_14456\\3930685186.py:1: DeprecationWarning: Call to deprecated function stored_results. Reason: The property counterpart 'stored_results' will be added in a future release, and this method will be removed.\n",
      "  result = next(cursor.stored_results())\n"
     ]
    }
   ],
   "source": [
    "result = next(cursor.stored_results())"
   ]
  },
  {
   "cell_type": "code",
   "execution_count": 58,
   "id": "9c8b0dc7-9fd0-45a0-a791-39e7845fde93",
   "metadata": {},
   "outputs": [
    {
     "name": "stderr",
     "output_type": "stream",
     "text": [
      "C:\\Users\\Renan Rosales\\AppData\\Local\\Temp\\ipykernel_14456\\2763558.py:1: DeprecationWarning: Call to deprecated function stored_results. Reason: The property counterpart 'stored_results' will be added in a future release, and this method will be removed.\n",
      "  for column_id in cursor.stored_results():\n"
     ]
    }
   ],
   "source": [
    "for column_id in cursor.stored_results():\n",
    "    columns = [column[0] for column in column_id.description]"
   ]
  },
  {
   "cell_type": "code",
   "execution_count": 59,
   "id": "dc6c39cd-938d-4cf0-bb2e-858cd8dbb1b1",
   "metadata": {},
   "outputs": [],
   "source": [
    "dataset = result.fetchall()"
   ]
  },
  {
   "cell_type": "code",
   "execution_count": 60,
   "id": "ecd2d73d-9e90-4f31-b94a-df2e3b63bfaf",
   "metadata": {},
   "outputs": [
    {
     "name": "stdout",
     "output_type": "stream",
     "text": [
      "['Full_Name', 'Role', 'Status']\n",
      "('Anna Iversen', 'Manager', 'Ready to pay')\n",
      "('Joakim Iversen', 'Manager', 'Ready to pay')\n",
      "('Vanessa McCarthy', 'Head Chef', 'Ready to serve')\n",
      "('Marcos Romero', 'Assistant Chef', 'Preparing Order')\n",
      "('Hiroki Yamane', 'Assistant Manager', 'Ready to pay')\n",
      "('Diana Pinto', 'Head Waiter', 'Order served')\n"
     ]
    }
   ],
   "source": [
    "print(columns)\n",
    "for data in dataset:\n",
    "    print(data)"
   ]
  },
  {
   "cell_type": "code",
   "execution_count": null,
   "id": "ac7b9b52-3830-4eca-8bfb-bfc3fcd3c317",
   "metadata": {},
   "outputs": [],
   "source": []
  }
 ],
 "metadata": {
  "kernelspec": {
   "display_name": "Python 3 (ipykernel)",
   "language": "python",
   "name": "python3"
  },
  "language_info": {
   "codemirror_mode": {
    "name": "ipython",
    "version": 3
   },
   "file_extension": ".py",
   "mimetype": "text/x-python",
   "name": "python",
   "nbconvert_exporter": "python",
   "pygments_lexer": "ipython3",
   "version": "3.13.1"
  }
 },
 "nbformat": 4,
 "nbformat_minor": 5
}
