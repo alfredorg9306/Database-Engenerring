{
 "cells": [
  {
   "cell_type": "code",
   "execution_count": 3,
   "id": "86effbc4-6770-4338-8e4f-88bc0f4d6c3a",
   "metadata": {},
   "outputs": [],
   "source": [
    "from mysql.connector import pooling,Error"
   ]
  },
  {
   "cell_type": "code",
   "execution_count": 24,
   "id": "d895d415-8dd9-46be-9719-9ef7f9859e5a",
   "metadata": {},
   "outputs": [],
   "source": [
    "def connection_pooling():\n",
    "    connection = None\n",
    "    try:\n",
    "        connection_pool = pooling.MySQLConnectionPool(\n",
    "            pool_name='pool_a',\n",
    "            pool_size=2,\n",
    "            host='localhost',\n",
    "            database='little_lemon',\n",
    "            user='root',\n",
    "            password='rosales93.'\n",
    "        )\n",
    "        connection = connection_pool.get_connection()\n",
    "        print(\"Connection Done\")\n",
    "        return connection\n",
    "    except Error as e:\n",
    "        print(f\"MySQL ERROR: {e}\")\n",
    "        return None\n",
    "    "
   ]
  }
 ],
 "metadata": {
  "kernelspec": {
   "display_name": "Python 3 (ipykernel)",
   "language": "python",
   "name": "python3"
  },
  "language_info": {
   "codemirror_mode": {
    "name": "ipython",
    "version": 3
   },
   "file_extension": ".py",
   "mimetype": "text/x-python",
   "name": "python",
   "nbconvert_exporter": "python",
   "pygments_lexer": "ipython3",
   "version": "3.13.1"
  }
 },
 "nbformat": 4,
 "nbformat_minor": 5
}
